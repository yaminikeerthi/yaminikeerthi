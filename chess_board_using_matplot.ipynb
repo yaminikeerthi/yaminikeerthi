{
  "nbformat": 4,
  "nbformat_minor": 0,
  "metadata": {
    "colab": {
      "provenance": [],
      "authorship_tag": "ABX9TyPsFUmvb1yJjoWnk9P2tf+4",
      "include_colab_link": true
    },
    "kernelspec": {
      "name": "python3",
      "display_name": "Python 3"
    },
    "language_info": {
      "name": "python"
    }
  },
  "cells": [
    {
      "cell_type": "markdown",
      "metadata": {
        "id": "view-in-github",
        "colab_type": "text"
      },
      "source": [
        "<a href=\"https://colab.research.google.com/github/yaminikeerthi/yaminikeerthi/blob/main/chess_board_using_matplot.ipynb\" target=\"_parent\"><img src=\"https://colab.research.google.com/assets/colab-badge.svg\" alt=\"Open In Colab\"/></a>"
      ]
    },
    {
      "cell_type": "code",
      "source": [
        "import matplotlib.pyplot as plt\n",
        "import numpy as np\n",
        "from matplotlib.colors import ListedColormap\n"
      ],
      "metadata": {
        "id": "ltZxswprTSN5"
      },
      "execution_count": null,
      "outputs": []
    },
    {
      "cell_type": "code",
      "source": [
        "board = np.tile( [1,0],[8,4])"
      ],
      "metadata": {
        "id": "yt7XfQC0Tud1"
      },
      "execution_count": null,
      "outputs": []
    },
    {
      "cell_type": "code",
      "source": [
        "for i in range(board.shape[0]):\n",
        "  board[i]=np.roll(board[i],i%2)"
      ],
      "metadata": {
        "id": "PGmQJonLUBAg"
      },
      "execution_count": null,
      "outputs": []
    },
    {
      "cell_type": "code",
      "source": [
        "cmap=ListedColormap(['#000000','#ffffff'])\n",
        "plt.matshow(board, cmap=cmap, )\n",
        "plt.xticks([ ])\n",
        "plt.yticks([ ])\n",
        "plt.show()"
      ],
      "metadata": {
        "colab": {
          "base_uri": "https://localhost:8080/",
          "height": 261
        },
        "id": "c_DJhOzZUU0A",
        "outputId": "88c80782-cdf8-42e5-f0cc-c55cba9f5b3a"
      },
      "execution_count": null,
      "outputs": [
        {
          "output_type": "display_data",
          "data": {
            "text/plain": [
              "<Figure size 288x288 with 1 Axes>"
            ],
            "image/png": "[encoded data removed]"
          },
          "metadata": {}
        }
      ]
    }
  ]
}