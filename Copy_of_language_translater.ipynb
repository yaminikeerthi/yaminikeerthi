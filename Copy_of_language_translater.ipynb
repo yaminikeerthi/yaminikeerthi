{
  "nbformat": 4,
  "nbformat_minor": 0,
  "metadata": {
    "colab": {
      "provenance": [],
      "collapsed_sections": [],
      "authorship_tag": "ABX9TyNietXWl+YY0haxoG4hdGh0",
      "include_colab_link": true
    },
    "kernelspec": {
      "name": "python3",
      "display_name": "Python 3"
    },
    "language_info": {
      "name": "python"
    }
  },
  "cells": [
    {
      "cell_type": "markdown",
      "metadata": {
        "id": "view-in-github",
        "colab_type": "text"
      },
      "source": [
        "<a href=\"https://colab.research.google.com/github/yaminikeerthi/yaminikeerthi/blob/main/Copy_of_language_translater.ipynb\" target=\"_parent\"><img src=\"https://colab.research.google.com/assets/colab-badge.svg\" alt=\"Open In Colab\"/></a>"
      ]
    },
    {
      "cell_type": "markdown",
      "source": [
        "package installation"
      ],
      "metadata": {
        "id": "AAXRegtuW6jJ"
      }
    },
    {
      "cell_type": "code",
      "execution_count": null,
      "metadata": {
        "colab": {
          "base_uri": "https://localhost:8080/"
        },
        "id": "ccWQ8i2-QD8Z",
        "outputId": "ffa332d7-b1e3-4cbb-8a9a-44911a990d7c"
      },
      "outputs": [
        {
          "output_type": "stream",
          "name": "stdout",
          "text": [
            "Looking in indexes: https://pypi.org/simple, https://us-python.pkg.dev/colab-wheels/public/simple/\n",
            "Collecting googletrans==4.0.0-rc1\n",
            "  Downloading googletrans-4.0.0rc1.tar.gz (20 kB)\n",
            "Collecting httpx==0.13.3\n",
            "  Downloading httpx-0.13.3-py3-none-any.whl (55 kB)\n",
            "\u001b[K     |████████████████████████████████| 55 kB 3.3 MB/s \n",
            "\u001b[?25hCollecting sniffio\n",
            "  Downloading sniffio-1.3.0-py3-none-any.whl (10 kB)\n",
            "Collecting hstspreload\n",
            "  Downloading hstspreload-2022.11.1-py3-none-any.whl (1.4 MB)\n",
            "\u001b[K     |████████████████████████████████| 1.4 MB 35.0 MB/s \n",
            "\u001b[?25hRequirement already satisfied: idna==2.* in /usr/local/lib/python3.7/dist-packages (from httpx==0.13.3->googletrans==4.0.0-rc1) (2.10)\n",
            "Requirement already satisfied: chardet==3.* in /usr/local/lib/python3.7/dist-packages (from httpx==0.13.3->googletrans==4.0.0-rc1) (3.0.4)\n",
            "Collecting rfc3986<2,>=1.3\n",
            "  Downloading rfc3986-1.5.0-py2.py3-none-any.whl (31 kB)\n",
            "Collecting httpcore==0.9.*\n",
            "  Downloading httpcore-0.9.1-py3-none-any.whl (42 kB)\n",
            "\u001b[K     |████████████████████████████████| 42 kB 1.2 MB/s \n",
            "\u001b[?25hRequirement already satisfied: certifi in /usr/local/lib/python3.7/dist-packages (from httpx==0.13.3->googletrans==4.0.0-rc1) (2022.9.24)\n",
            "Collecting h2==3.*\n",
            "  Downloading h2-3.2.0-py2.py3-none-any.whl (65 kB)\n",
            "\u001b[K     |████████████████████████████████| 65 kB 3.3 MB/s \n",
            "\u001b[?25hCollecting h11<0.10,>=0.8\n",
            "  Downloading h11-0.9.0-py2.py3-none-any.whl (53 kB)\n",
            "\u001b[K     |████████████████████████████████| 53 kB 2.2 MB/s \n",
            "\u001b[?25hCollecting hpack<4,>=3.0\n",
            "  Downloading hpack-3.0.0-py2.py3-none-any.whl (38 kB)\n",
            "Collecting hyperframe<6,>=5.2.0\n",
            "  Downloading hyperframe-5.2.0-py2.py3-none-any.whl (12 kB)\n",
            "Building wheels for collected packages: googletrans\n",
            "  Building wheel for googletrans (setup.py) ... \u001b[?25l\u001b[?25hdone\n",
            "  Created wheel for googletrans: filename=googletrans-4.0.0rc1-py3-none-any.whl size=17414 sha256=fbe3f3f80aef0fb392e37330e7889a030d6af9796dac7617426daa42ddaa69c8\n",
            "  Stored in directory: /root/.cache/pip/wheels/43/34/00/4fe71786ea6d12314b29037620c36d857e5d104ac2748bf82a\n",
            "Successfully built googletrans\n",
            "Installing collected packages: hyperframe, hpack, sniffio, h2, h11, rfc3986, httpcore, hstspreload, httpx, googletrans\n",
            "Successfully installed googletrans-4.0.0rc1 h11-0.9.0 h2-3.2.0 hpack-3.0.0 hstspreload-2022.11.1 httpcore-0.9.1 httpx-0.13.3 hyperframe-5.2.0 rfc3986-1.5.0 sniffio-1.3.0\n"
          ]
        }
      ],
      "source": [
        "!pip install googletrans==4.0.0-rc1"
      ]
    },
    {
      "cell_type": "markdown",
      "source": [
        "The first thing we need to do is to import the required packages and modules.In this project,we import the googletrans package to make use of its functions. we will be importing the translator class from the googletrans package\n"
      ],
      "metadata": {
        "id": "hn5jY1xvXIDb"
      }
    },
    {
      "cell_type": "code",
      "source": [
        "from googletrans import Translator"
      ],
      "metadata": {
        "id": "-C39HqnlQa3M"
      },
      "execution_count": null,
      "outputs": []
    },
    {
      "cell_type": "markdown",
      "source": [
        "creating the translator class"
      ],
      "metadata": {
        "id": "f4Qn5aa7XsHS"
      }
    },
    {
      "cell_type": "code",
      "source": [
        "translator = Translator()"
      ],
      "metadata": {
        "id": "vfBFKMTvQnh9"
      },
      "execution_count": null,
      "outputs": []
    },
    {
      "cell_type": "markdown",
      "source": [
        "Here, we will be defining a dictionary called language.In this dictionary,we fix all the languages code for 10+ languages like the following"
      ],
      "metadata": {
        "id": "zvA5Jk2HXxz2"
      }
    },
    {
      "cell_type": "code",
      "source": [
        "language = {\"bn\": \"Bangla\",\n",
        "            \"en\": \"English\",\n",
        "            \"ko\": \"Koren\",\n",
        "            \"fr\": \"French\",\n",
        "            \"de\": \"German\",\n",
        "            \"he\": \"Hebrew\",\n",
        "            \"hi\": \"Hindi\",\n",
        "            \"it\": \"Italian\",\n",
        "            \"ja\": \"Japanese\",\n",
        "            'la': \"Latin\",\n",
        "            \"ms\": \"Malay\",\n",
        "            \"ne\": \"Nepali\",\n",
        "            \"ru\": \"Russian\",\n",
        "            \"ar\": \"Arabic\",\n",
        "            \"zh\": \"Chinese\",\n",
        "            \"es\": \"Spanish\"\n",
        "            }"
      ],
      "metadata": {
        "id": "uSMTkTieQsa5"
      },
      "execution_count": null,
      "outputs": []
    },
    {
      "cell_type": "markdown",
      "source": [
        "Here ,we ask the user for the language code and check if it is valid or not"
      ],
      "metadata": {
        "id": "-iPKe2ekYE03"
      }
    },
    {
      "cell_type": "code",
      "source": [
        "allow = True  # variable to control correct language code input\n",
        " \n",
        "while allow:  # checking if language code is valid\n",
        " \n",
        "    user_code = input(\n",
        "        f\"Please input desired language code. To see the language code list enter 'options' \\n\")\n",
        " \n",
        "    if user_code == \"options\":  # showing language options\n",
        "        print(\"Code : Language\")  # Heading of language option menu\n",
        "        for i in language.items():\n",
        "            print(f\"{i[0]} => {i[1]}\")\n",
        "        print()  # adding an empty space\n",
        " \n",
        "    else:  # validating user input\n",
        "        for lan_code in language.keys():\n",
        "            if lan_code == user_code:\n",
        "                print(f\"You have selected {language[lan_code]}\")\n",
        "                allow = False\n",
        "        if allow:\n",
        "            print(\"It's not a valid language code!\")"
      ],
      "metadata": {
        "colab": {
          "base_uri": "https://localhost:8080/"
        },
        "id": "FhvDvux1Qxpr",
        "outputId": "96c435e9-7827-408c-93fc-ea5b2443cd37"
      },
      "execution_count": null,
      "outputs": [
        {
          "output_type": "stream",
          "name": "stdout",
          "text": [
            "Please input desired language code. To see the language code list enter 'options' \n",
            "options\n",
            "Code : Language\n",
            "bn => Bangla\n",
            "en => English\n",
            "ko => Koren\n",
            "fr => French\n",
            "de => German\n",
            "he => Hebrew\n",
            "hi => Hindi\n",
            "it => Italian\n",
            "ja => Japanese\n",
            "la => Latin\n",
            "ms => Malay\n",
            "ne => Nepali\n",
            "ru => Russian\n",
            "ar => Arabic\n",
            "zh => Chinese\n",
            "es => Spanish\n",
            "\n",
            "Please input desired language code. To see the language code list enter 'options' \n",
            "hi\n",
            "You have selected Hindi\n"
          ]
        }
      ]
    },
    {
      "cell_type": "markdown",
      "source": [
        "Here, we will start translating the given text to the selected language with the help of the googletrans package. we will loop until the user enters close for the exit."
      ],
      "metadata": {
        "id": "uzVRG6fyYQhO"
      }
    },
    {
      "cell_type": "code",
      "source": [
        "while True:  # starting translation loop\n",
        "    string = input(\n",
        "        \"\\nWrite the text you want to translate: \\nTo exit the program write 'close'\\n\")\n",
        " \n",
        "    if string == \"close\":  # exit program command\n",
        "        print(f\"\\nHave a nice Day!\")\n",
        "        break\n",
        " \n",
        "    # translating method from googletrans\n",
        "    translated = translator.translate(string, dest=user_code)\n",
        " \n",
        "    # printing translation\n",
        "    print(f\"\\n{language[user_code]} translation: {translated.text}\")\n",
        "    # printing pronunciation\n",
        "    print(f\"Pronunciation : {translated.pronunciation}\")\n",
        " \n",
        "    for i in language.items():  # checking if the source language is listed on language dict and printing it\n",
        "        if translated.src == i[0]:\n",
        "            print(f\"Translated from : {i[1]}\")"
      ],
      "metadata": {
        "colab": {
          "base_uri": "https://localhost:8080/"
        },
        "id": "X9O_nVkHRbjk",
        "outputId": "f6f9e434-5b55-4e08-89b5-2cfc4a3b958f"
      },
      "execution_count": null,
      "outputs": [
        {
          "output_type": "stream",
          "name": "stdout",
          "text": [
            "\n",
            "Write the text you want to translate: \n",
            "To exit the program write 'close'\n",
            "i am a good girl\n",
            "\n",
            "Hindi translation: में एक अच्छी लड़की हूँ\n",
            "Pronunciation : mein ek achchhee ladakee hoon\n",
            "Translated from : English\n",
            "\n",
            "Write the text you want to translate: \n",
            "To exit the program write 'close'\n",
            "yamini keerthi works hard\n",
            "\n",
            "Hindi translation: यामिनी कीर्थी कड़ी मेहनत करता है\n",
            "Pronunciation : yaaminee keerthee kadee mehanat karata hai\n",
            "\n",
            "Write the text you want to translate: \n",
            "To exit the program write 'close'\n",
            "close\n",
            "\n",
            "Have a nice Day!\n"
          ]
        }
      ]
    }
  ]
}